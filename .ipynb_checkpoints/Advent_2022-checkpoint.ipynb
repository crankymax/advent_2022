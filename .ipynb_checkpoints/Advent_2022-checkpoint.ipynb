{
 "cells": [
  {
   "cell_type": "markdown",
   "id": "624187b2",
   "metadata": {},
   "source": [
    "# 2022 Advent of Code\n"
   ]
  },
  {
   "cell_type": "code",
   "execution_count": 1,
   "id": "6abf6cc2",
   "metadata": {},
   "outputs": [
    {
     "name": "stdout",
     "output_type": "stream",
     "text": [
      "69177\n",
      "207456\n"
     ]
    }
   ],
   "source": [
    "from io import StringIO\n",
    "\n",
    "test_data = \"\"\"\n",
    "\"\"\"\n",
    "\n",
    "#input_src = StringIO(test_data)\n",
    "input_src = open('elf_cal_1.txt')\n",
    "\n",
    "# Day 1 Calorie Counting\n",
    "\n",
    "elve_loads = [0]\n",
    "\n",
    "for elf_cal in [int(load_cal.strip()) if load_cal.strip() != \"\" else 0 for load_cal in input_src]:\n",
    "    if elf_cal:\n",
    "        elve_loads[-1] += int(elf_cal)\n",
    "    else:\n",
    "        elve_loads.append(0)\n",
    "\n",
    "\n",
    "print(max(elve_loads))\n",
    "\n",
    "print(sum(sorted(elve_loads)[-3:]))\n",
    "\n",
    "# Not 157681"
   ]
  },
  {
   "cell_type": "code",
   "execution_count": 2,
   "id": "c4694a21",
   "metadata": {},
   "outputs": [
    {
     "name": "stdout",
     "output_type": "stream",
     "text": [
      "13682\n",
      "12881\n"
     ]
    }
   ],
   "source": [
    "## Day 2\n",
    "\n",
    "d2_t = \"\"\"A Y\n",
    "B X\n",
    "C Z\n",
    "\"\"\"\n",
    "\n",
    "#input_src = StringIO(d2_t)\n",
    "input_src = open('d2_input.txt')\n",
    "\n",
    "# A = Rock = X\n",
    "# B = Paper = Y\n",
    "# C = Scissors = Z\n",
    "\n",
    "my_score_vals = {'X': 1, 'Y': 2, 'Z': 3}\n",
    "\n",
    "score_val = { 'AX': 3, 'AY': 6, 'AZ': 0,\n",
    "              'BX': 0, 'BY': 3, 'BZ': 6,\n",
    "              'CX': 6, 'CY': 0, 'CZ': 3}\n",
    "p1_total_score = 0\n",
    "\n",
    "my_rsp_score = {'X': 0, 'Y': 3, 'Z': 6}\n",
    "\n",
    "my_play = { 'AX': 'Z', 'AY': 'X', 'AZ': 'Y',\n",
    "            'BX': 'X', 'BY': 'Y', 'BZ': 'Z',\n",
    "            'CX': 'Y', 'CY': 'Z', 'CZ': 'X'}\n",
    "p2_total_score = 0\n",
    "\n",
    "for rsp_round in input_src:\n",
    "    plays = rsp_round.split()\n",
    "    p1_total_score += my_score_vals[plays[1]]+ score_val[\"\".join(plays)]\n",
    "    my_rsp= my_play[\"\".join(plays)]\n",
    "    p2_total_score += my_score_vals[my_rsp] + my_rsp_score[plays[1]]\n",
    "    \n",
    "print(p1_total_score)\n",
    "print(p2_total_score)"
   ]
  },
  {
   "cell_type": "code",
   "execution_count": 3,
   "id": "bc9d1e4a",
   "metadata": {},
   "outputs": [
    {
     "name": "stdout",
     "output_type": "stream",
     "text": [
      "7967\n",
      "2716\n"
     ]
    }
   ],
   "source": [
    "## Day 3\n",
    "d3_t = \"\"\"vJrwpWtwJgWrhcsFMMfFFhFp\n",
    "jqHRNqRjqzjGDLGLrsFMfFZSrLrFZsSL\n",
    "PmmdzqPrVvPwwTWBwg\n",
    "wMqvLMZHhHMvwLHjbvcjnnSBnvTQFn\n",
    "ttgJtRGJQctTZtZT\n",
    "CrZsJsPPZsGzwwsLwLmpwMDw\n",
    "\"\"\"\n",
    "\n",
    "#input_src = StringIO(d3_t)\n",
    "input_src = open('d3_input.txt')\n",
    "\n",
    "priority = { x[1]: x[0]+1 for x in enumerate('abcdefghijklmnopqrstuvwxyzABCDEFGHIJKLMNOPQRSTUVWXYZ')}\n",
    "\n",
    "score = 0\n",
    "elf_count = 0\n",
    "rucksacks = [0,0,0]\n",
    "group_score = 0\n",
    "for rucksack in input_src:\n",
    "    elf_count += 1\n",
    "    h_len = int(len(rucksack)/2)\n",
    "    p1_s = set(rucksack[:h_len])\n",
    "    p2_s = set(rucksack[h_len:-1])\n",
    "    priority_f = p1_s.intersection(p2_s).pop()\n",
    "    # print(priority_f, priority[priority_f])\n",
    "    score += priority[priority_f]\n",
    "    # Add rucksack to list pos\n",
    "    rucksacks[(elf_count%3)-1] = set(rucksack[:-1])\n",
    "    #print(rucksacks)\n",
    "    #print(elf_count%3)\n",
    "    if elf_count%3 == 0:\n",
    "        common = rucksacks[0].intersection(rucksacks[1],rucksacks[2])\n",
    "        # print(common)\n",
    "        group_score += priority[common.pop()]\n",
    "\n",
    "print(score)\n",
    "print(group_score)"
   ]
  },
  {
   "cell_type": "code",
   "execution_count": 20,
   "id": "3332f631",
   "metadata": {},
   "outputs": [
    {
     "name": "stdout",
     "output_type": "stream",
     "text": [
      "441\n",
      "861\n"
     ]
    }
   ],
   "source": [
    "## Day 4\n",
    "d4_t = \"\"\"2-4,6-8\n",
    "2-3,4-5\n",
    "5-7,7-9\n",
    "2-8,3-7\n",
    "6-6,4-6\n",
    "2-6,4-8\n",
    "\"\"\"\n",
    "\n",
    "#input_src = StringIO(d4_t)\n",
    "input_src = open('d4_input.txt')\n",
    "\n",
    "subs = 0\n",
    "overs = 0\n",
    "for rucksack in input_src:\n",
    "    p1, p2 = rucksack.strip().split(',')\n",
    "    r1 = p1.split('-')\n",
    "    r2 = p2.split('-')\n",
    "    s1 = set(range(int(r1[0]), int(r1[1])+1))\n",
    "    s2 = set(range(int(r2[0]), int(r2[1])+1))\n",
    "    # print(s1,s2)\n",
    "    if s1.issubset(s2) or s2.issubset(s1):\n",
    "        subs += 1\n",
    "    \n",
    "    if s1.intersection(s2) or s2.intersection(s1):\n",
    "        overs +=1\n",
    "        \n",
    "print(subs)\n",
    "print(overs)"
   ]
  },
  {
   "cell_type": "code",
   "execution_count": null,
   "id": "79cbf3ed",
   "metadata": {},
   "outputs": [],
   "source": []
  },
  {
   "cell_type": "code",
   "execution_count": null,
   "id": "577e3a6c",
   "metadata": {},
   "outputs": [],
   "source": []
  }
 ],
 "metadata": {
  "kernelspec": {
   "display_name": "Python 3 (ipykernel)",
   "language": "python",
   "name": "python3"
  },
  "language_info": {
   "codemirror_mode": {
    "name": "ipython",
    "version": 3
   },
   "file_extension": ".py",
   "mimetype": "text/x-python",
   "name": "python",
   "nbconvert_exporter": "python",
   "pygments_lexer": "ipython3",
   "version": "3.9.6"
  }
 },
 "nbformat": 4,
 "nbformat_minor": 5
}
